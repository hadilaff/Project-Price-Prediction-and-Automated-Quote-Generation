{
  "nbformat": 4,
  "nbformat_minor": 0,
  "metadata": {
    "colab": {
      "provenance": []
    },
    "kernelspec": {
      "name": "python3",
      "display_name": "Python 3"
    },
    "language_info": {
      "name": "python"
    }
  },
  "cells": [
    {
      "cell_type": "markdown",
      "source": [
        "# IMPORTS\n",
        "\n"
      ],
      "metadata": {
        "id": "kGbfX6aA-TB5"
      }
    },
    {
      "cell_type": "code",
      "source": [
        "import matplotlib.pyplot as plt\n",
        "import pandas as pd\n",
        "import numpy as np\n",
        "import seaborn as sns\n",
        "from sklearn.datasets import make_classification\n",
        "from sklearn.metrics import confusion_matrix\n",
        "from sklearn.metrics import ConfusionMatrixDisplay\n",
        "from sklearn import metrics\n",
        "import plotly.express as px\n",
        "import random\n",
        "from sklearn.model_selection import GridSearchCV\n",
        "from sklearn.preprocessing import LabelEncoder"
      ],
      "metadata": {
        "id": "rgI3BYvQ-Yh4"
      },
      "execution_count": null,
      "outputs": []
    },
    {
      "cell_type": "markdown",
      "source": [
        "#Data Exploration\n"
      ],
      "metadata": {
        "id": "RLZduaeL_43_"
      }
    },
    {
      "cell_type": "code",
      "source": [
        "df = pd.read_csv(\"/content/new_devis.csv\", encoding='latin-1')"
      ],
      "metadata": {
        "id": "CDw_AqPT_65g"
      },
      "execution_count": null,
      "outputs": []
    },
    {
      "cell_type": "code",
      "source": [
        "df.head()"
      ],
      "metadata": {
        "colab": {
          "base_uri": "https://localhost:8080/",
          "height": 206
        },
        "id": "BQG1XwqkBLRw",
        "outputId": "bba3ba56-66e8-416c-86cc-75fda54b8369"
      },
      "execution_count": null,
      "outputs": [
        {
          "output_type": "execute_result",
          "data": {
            "text/plain": [
              "   ProjectID  ClientID   StartDate     EndDate  Duration    Category    Size  \\\n",
              "0       4136       169  03/12/2022  01/03/2023        88          AI  Medium   \n",
              "1       2351      4105  18/08/2021  15/09/2021        28  E-commerce   Small   \n",
              "2       3742       640  14/11/2021  22/03/2022       128          AI     Big   \n",
              "3       4320      1421  29/11/2020  05/04/2021       127       UI/UX     Big   \n",
              "4       3149      3411  25/03/2021  08/09/2021       167      Mobile     Big   \n",
              "\n",
              "    Cost  \n",
              "0   9980  \n",
              "1   4600  \n",
              "2  18910  \n",
              "3  13420  \n",
              "4  76790  "
            ],
            "text/html": [
              "\n",
              "  <div id=\"df-e8cefb38-c947-42f9-94a1-bdc3562b0266\">\n",
              "    <div class=\"colab-df-container\">\n",
              "      <div>\n",
              "<style scoped>\n",
              "    .dataframe tbody tr th:only-of-type {\n",
              "        vertical-align: middle;\n",
              "    }\n",
              "\n",
              "    .dataframe tbody tr th {\n",
              "        vertical-align: top;\n",
              "    }\n",
              "\n",
              "    .dataframe thead th {\n",
              "        text-align: right;\n",
              "    }\n",
              "</style>\n",
              "<table border=\"1\" class=\"dataframe\">\n",
              "  <thead>\n",
              "    <tr style=\"text-align: right;\">\n",
              "      <th></th>\n",
              "      <th>ProjectID</th>\n",
              "      <th>ClientID</th>\n",
              "      <th>StartDate</th>\n",
              "      <th>EndDate</th>\n",
              "      <th>Duration</th>\n",
              "      <th>Category</th>\n",
              "      <th>Size</th>\n",
              "      <th>Cost</th>\n",
              "    </tr>\n",
              "  </thead>\n",
              "  <tbody>\n",
              "    <tr>\n",
              "      <th>0</th>\n",
              "      <td>4136</td>\n",
              "      <td>169</td>\n",
              "      <td>03/12/2022</td>\n",
              "      <td>01/03/2023</td>\n",
              "      <td>88</td>\n",
              "      <td>AI</td>\n",
              "      <td>Medium</td>\n",
              "      <td>9980</td>\n",
              "    </tr>\n",
              "    <tr>\n",
              "      <th>1</th>\n",
              "      <td>2351</td>\n",
              "      <td>4105</td>\n",
              "      <td>18/08/2021</td>\n",
              "      <td>15/09/2021</td>\n",
              "      <td>28</td>\n",
              "      <td>E-commerce</td>\n",
              "      <td>Small</td>\n",
              "      <td>4600</td>\n",
              "    </tr>\n",
              "    <tr>\n",
              "      <th>2</th>\n",
              "      <td>3742</td>\n",
              "      <td>640</td>\n",
              "      <td>14/11/2021</td>\n",
              "      <td>22/03/2022</td>\n",
              "      <td>128</td>\n",
              "      <td>AI</td>\n",
              "      <td>Big</td>\n",
              "      <td>18910</td>\n",
              "    </tr>\n",
              "    <tr>\n",
              "      <th>3</th>\n",
              "      <td>4320</td>\n",
              "      <td>1421</td>\n",
              "      <td>29/11/2020</td>\n",
              "      <td>05/04/2021</td>\n",
              "      <td>127</td>\n",
              "      <td>UI/UX</td>\n",
              "      <td>Big</td>\n",
              "      <td>13420</td>\n",
              "    </tr>\n",
              "    <tr>\n",
              "      <th>4</th>\n",
              "      <td>3149</td>\n",
              "      <td>3411</td>\n",
              "      <td>25/03/2021</td>\n",
              "      <td>08/09/2021</td>\n",
              "      <td>167</td>\n",
              "      <td>Mobile</td>\n",
              "      <td>Big</td>\n",
              "      <td>76790</td>\n",
              "    </tr>\n",
              "  </tbody>\n",
              "</table>\n",
              "</div>\n",
              "      <button class=\"colab-df-convert\" onclick=\"convertToInteractive('df-e8cefb38-c947-42f9-94a1-bdc3562b0266')\"\n",
              "              title=\"Convert this dataframe to an interactive table.\"\n",
              "              style=\"display:none;\">\n",
              "        \n",
              "  <svg xmlns=\"http://www.w3.org/2000/svg\" height=\"24px\"viewBox=\"0 0 24 24\"\n",
              "       width=\"24px\">\n",
              "    <path d=\"M0 0h24v24H0V0z\" fill=\"none\"/>\n",
              "    <path d=\"M18.56 5.44l.94 2.06.94-2.06 2.06-.94-2.06-.94-.94-2.06-.94 2.06-2.06.94zm-11 1L8.5 8.5l.94-2.06 2.06-.94-2.06-.94L8.5 2.5l-.94 2.06-2.06.94zm10 10l.94 2.06.94-2.06 2.06-.94-2.06-.94-.94-2.06-.94 2.06-2.06.94z\"/><path d=\"M17.41 7.96l-1.37-1.37c-.4-.4-.92-.59-1.43-.59-.52 0-1.04.2-1.43.59L10.3 9.45l-7.72 7.72c-.78.78-.78 2.05 0 2.83L4 21.41c.39.39.9.59 1.41.59.51 0 1.02-.2 1.41-.59l7.78-7.78 2.81-2.81c.8-.78.8-2.07 0-2.86zM5.41 20L4 18.59l7.72-7.72 1.47 1.35L5.41 20z\"/>\n",
              "  </svg>\n",
              "      </button>\n",
              "      \n",
              "  <style>\n",
              "    .colab-df-container {\n",
              "      display:flex;\n",
              "      flex-wrap:wrap;\n",
              "      gap: 12px;\n",
              "    }\n",
              "\n",
              "    .colab-df-convert {\n",
              "      background-color: #E8F0FE;\n",
              "      border: none;\n",
              "      border-radius: 50%;\n",
              "      cursor: pointer;\n",
              "      display: none;\n",
              "      fill: #1967D2;\n",
              "      height: 32px;\n",
              "      padding: 0 0 0 0;\n",
              "      width: 32px;\n",
              "    }\n",
              "\n",
              "    .colab-df-convert:hover {\n",
              "      background-color: #E2EBFA;\n",
              "      box-shadow: 0px 1px 2px rgba(60, 64, 67, 0.3), 0px 1px 3px 1px rgba(60, 64, 67, 0.15);\n",
              "      fill: #174EA6;\n",
              "    }\n",
              "\n",
              "    [theme=dark] .colab-df-convert {\n",
              "      background-color: #3B4455;\n",
              "      fill: #D2E3FC;\n",
              "    }\n",
              "\n",
              "    [theme=dark] .colab-df-convert:hover {\n",
              "      background-color: #434B5C;\n",
              "      box-shadow: 0px 1px 3px 1px rgba(0, 0, 0, 0.15);\n",
              "      filter: drop-shadow(0px 1px 2px rgba(0, 0, 0, 0.3));\n",
              "      fill: #FFFFFF;\n",
              "    }\n",
              "  </style>\n",
              "\n",
              "      <script>\n",
              "        const buttonEl =\n",
              "          document.querySelector('#df-e8cefb38-c947-42f9-94a1-bdc3562b0266 button.colab-df-convert');\n",
              "        buttonEl.style.display =\n",
              "          google.colab.kernel.accessAllowed ? 'block' : 'none';\n",
              "\n",
              "        async function convertToInteractive(key) {\n",
              "          const element = document.querySelector('#df-e8cefb38-c947-42f9-94a1-bdc3562b0266');\n",
              "          const dataTable =\n",
              "            await google.colab.kernel.invokeFunction('convertToInteractive',\n",
              "                                                     [key], {});\n",
              "          if (!dataTable) return;\n",
              "\n",
              "          const docLinkHtml = 'Like what you see? Visit the ' +\n",
              "            '<a target=\"_blank\" href=https://colab.research.google.com/notebooks/data_table.ipynb>data table notebook</a>'\n",
              "            + ' to learn more about interactive tables.';\n",
              "          element.innerHTML = '';\n",
              "          dataTable['output_type'] = 'display_data';\n",
              "          await google.colab.output.renderOutput(dataTable, element);\n",
              "          const docLink = document.createElement('div');\n",
              "          docLink.innerHTML = docLinkHtml;\n",
              "          element.appendChild(docLink);\n",
              "        }\n",
              "      </script>\n",
              "    </div>\n",
              "  </div>\n",
              "  "
            ]
          },
          "metadata": {},
          "execution_count": 97
        }
      ]
    },
    {
      "cell_type": "code",
      "source": [
        "df.shape"
      ],
      "metadata": {
        "colab": {
          "base_uri": "https://localhost:8080/"
        },
        "id": "02iwghDLBO5u",
        "outputId": "7c1e72c4-48da-40c8-ec66-4bb37e025352"
      },
      "execution_count": null,
      "outputs": [
        {
          "output_type": "execute_result",
          "data": {
            "text/plain": [
              "(5000, 8)"
            ]
          },
          "metadata": {},
          "execution_count": 98
        }
      ]
    },
    {
      "cell_type": "code",
      "source": [
        "df.describe()"
      ],
      "metadata": {
        "colab": {
          "base_uri": "https://localhost:8080/",
          "height": 300
        },
        "id": "kvD5e92hB3f-",
        "outputId": "d5ed8012-6d95-4a98-d921-67afea56123d"
      },
      "execution_count": null,
      "outputs": [
        {
          "output_type": "execute_result",
          "data": {
            "text/plain": [
              "         ProjectID     ClientID   Duration          Cost\n",
              "count  5000.000000  5000.000000  5000.0000   5000.000000\n",
              "mean   2536.436400  2544.470000    78.6326  21959.608000\n",
              "std    1437.487072  1436.708381    55.9996  28912.066671\n",
              "min       2.000000     1.000000    15.0000    500.000000\n",
              "25%    1317.000000  1311.250000    26.0000   3940.000000\n",
              "50%    2530.500000  2587.500000    62.0000   8290.000000\n",
              "75%    3793.250000  3795.000000   136.0000  26307.500000\n",
              "max    5000.000000  5000.000000   180.0000  99960.000000"
            ],
            "text/html": [
              "\n",
              "  <div id=\"df-920602d7-b107-41a8-9469-aed1d696de92\">\n",
              "    <div class=\"colab-df-container\">\n",
              "      <div>\n",
              "<style scoped>\n",
              "    .dataframe tbody tr th:only-of-type {\n",
              "        vertical-align: middle;\n",
              "    }\n",
              "\n",
              "    .dataframe tbody tr th {\n",
              "        vertical-align: top;\n",
              "    }\n",
              "\n",
              "    .dataframe thead th {\n",
              "        text-align: right;\n",
              "    }\n",
              "</style>\n",
              "<table border=\"1\" class=\"dataframe\">\n",
              "  <thead>\n",
              "    <tr style=\"text-align: right;\">\n",
              "      <th></th>\n",
              "      <th>ProjectID</th>\n",
              "      <th>ClientID</th>\n",
              "      <th>Duration</th>\n",
              "      <th>Cost</th>\n",
              "    </tr>\n",
              "  </thead>\n",
              "  <tbody>\n",
              "    <tr>\n",
              "      <th>count</th>\n",
              "      <td>5000.000000</td>\n",
              "      <td>5000.000000</td>\n",
              "      <td>5000.0000</td>\n",
              "      <td>5000.000000</td>\n",
              "    </tr>\n",
              "    <tr>\n",
              "      <th>mean</th>\n",
              "      <td>2536.436400</td>\n",
              "      <td>2544.470000</td>\n",
              "      <td>78.6326</td>\n",
              "      <td>21959.608000</td>\n",
              "    </tr>\n",
              "    <tr>\n",
              "      <th>std</th>\n",
              "      <td>1437.487072</td>\n",
              "      <td>1436.708381</td>\n",
              "      <td>55.9996</td>\n",
              "      <td>28912.066671</td>\n",
              "    </tr>\n",
              "    <tr>\n",
              "      <th>min</th>\n",
              "      <td>2.000000</td>\n",
              "      <td>1.000000</td>\n",
              "      <td>15.0000</td>\n",
              "      <td>500.000000</td>\n",
              "    </tr>\n",
              "    <tr>\n",
              "      <th>25%</th>\n",
              "      <td>1317.000000</td>\n",
              "      <td>1311.250000</td>\n",
              "      <td>26.0000</td>\n",
              "      <td>3940.000000</td>\n",
              "    </tr>\n",
              "    <tr>\n",
              "      <th>50%</th>\n",
              "      <td>2530.500000</td>\n",
              "      <td>2587.500000</td>\n",
              "      <td>62.0000</td>\n",
              "      <td>8290.000000</td>\n",
              "    </tr>\n",
              "    <tr>\n",
              "      <th>75%</th>\n",
              "      <td>3793.250000</td>\n",
              "      <td>3795.000000</td>\n",
              "      <td>136.0000</td>\n",
              "      <td>26307.500000</td>\n",
              "    </tr>\n",
              "    <tr>\n",
              "      <th>max</th>\n",
              "      <td>5000.000000</td>\n",
              "      <td>5000.000000</td>\n",
              "      <td>180.0000</td>\n",
              "      <td>99960.000000</td>\n",
              "    </tr>\n",
              "  </tbody>\n",
              "</table>\n",
              "</div>\n",
              "      <button class=\"colab-df-convert\" onclick=\"convertToInteractive('df-920602d7-b107-41a8-9469-aed1d696de92')\"\n",
              "              title=\"Convert this dataframe to an interactive table.\"\n",
              "              style=\"display:none;\">\n",
              "        \n",
              "  <svg xmlns=\"http://www.w3.org/2000/svg\" height=\"24px\"viewBox=\"0 0 24 24\"\n",
              "       width=\"24px\">\n",
              "    <path d=\"M0 0h24v24H0V0z\" fill=\"none\"/>\n",
              "    <path d=\"M18.56 5.44l.94 2.06.94-2.06 2.06-.94-2.06-.94-.94-2.06-.94 2.06-2.06.94zm-11 1L8.5 8.5l.94-2.06 2.06-.94-2.06-.94L8.5 2.5l-.94 2.06-2.06.94zm10 10l.94 2.06.94-2.06 2.06-.94-2.06-.94-.94-2.06-.94 2.06-2.06.94z\"/><path d=\"M17.41 7.96l-1.37-1.37c-.4-.4-.92-.59-1.43-.59-.52 0-1.04.2-1.43.59L10.3 9.45l-7.72 7.72c-.78.78-.78 2.05 0 2.83L4 21.41c.39.39.9.59 1.41.59.51 0 1.02-.2 1.41-.59l7.78-7.78 2.81-2.81c.8-.78.8-2.07 0-2.86zM5.41 20L4 18.59l7.72-7.72 1.47 1.35L5.41 20z\"/>\n",
              "  </svg>\n",
              "      </button>\n",
              "      \n",
              "  <style>\n",
              "    .colab-df-container {\n",
              "      display:flex;\n",
              "      flex-wrap:wrap;\n",
              "      gap: 12px;\n",
              "    }\n",
              "\n",
              "    .colab-df-convert {\n",
              "      background-color: #E8F0FE;\n",
              "      border: none;\n",
              "      border-radius: 50%;\n",
              "      cursor: pointer;\n",
              "      display: none;\n",
              "      fill: #1967D2;\n",
              "      height: 32px;\n",
              "      padding: 0 0 0 0;\n",
              "      width: 32px;\n",
              "    }\n",
              "\n",
              "    .colab-df-convert:hover {\n",
              "      background-color: #E2EBFA;\n",
              "      box-shadow: 0px 1px 2px rgba(60, 64, 67, 0.3), 0px 1px 3px 1px rgba(60, 64, 67, 0.15);\n",
              "      fill: #174EA6;\n",
              "    }\n",
              "\n",
              "    [theme=dark] .colab-df-convert {\n",
              "      background-color: #3B4455;\n",
              "      fill: #D2E3FC;\n",
              "    }\n",
              "\n",
              "    [theme=dark] .colab-df-convert:hover {\n",
              "      background-color: #434B5C;\n",
              "      box-shadow: 0px 1px 3px 1px rgba(0, 0, 0, 0.15);\n",
              "      filter: drop-shadow(0px 1px 2px rgba(0, 0, 0, 0.3));\n",
              "      fill: #FFFFFF;\n",
              "    }\n",
              "  </style>\n",
              "\n",
              "      <script>\n",
              "        const buttonEl =\n",
              "          document.querySelector('#df-920602d7-b107-41a8-9469-aed1d696de92 button.colab-df-convert');\n",
              "        buttonEl.style.display =\n",
              "          google.colab.kernel.accessAllowed ? 'block' : 'none';\n",
              "\n",
              "        async function convertToInteractive(key) {\n",
              "          const element = document.querySelector('#df-920602d7-b107-41a8-9469-aed1d696de92');\n",
              "          const dataTable =\n",
              "            await google.colab.kernel.invokeFunction('convertToInteractive',\n",
              "                                                     [key], {});\n",
              "          if (!dataTable) return;\n",
              "\n",
              "          const docLinkHtml = 'Like what you see? Visit the ' +\n",
              "            '<a target=\"_blank\" href=https://colab.research.google.com/notebooks/data_table.ipynb>data table notebook</a>'\n",
              "            + ' to learn more about interactive tables.';\n",
              "          element.innerHTML = '';\n",
              "          dataTable['output_type'] = 'display_data';\n",
              "          await google.colab.output.renderOutput(dataTable, element);\n",
              "          const docLink = document.createElement('div');\n",
              "          docLink.innerHTML = docLinkHtml;\n",
              "          element.appendChild(docLink);\n",
              "        }\n",
              "      </script>\n",
              "    </div>\n",
              "  </div>\n",
              "  "
            ]
          },
          "metadata": {},
          "execution_count": 99
        }
      ]
    },
    {
      "cell_type": "code",
      "source": [
        "df.info()"
      ],
      "metadata": {
        "colab": {
          "base_uri": "https://localhost:8080/"
        },
        "id": "3q2Y3PRuCJM-",
        "outputId": "1271fbe6-a497-4c8f-b8d1-494e1ff579c3"
      },
      "execution_count": null,
      "outputs": [
        {
          "output_type": "stream",
          "name": "stdout",
          "text": [
            "<class 'pandas.core.frame.DataFrame'>\n",
            "RangeIndex: 5000 entries, 0 to 4999\n",
            "Data columns (total 8 columns):\n",
            " #   Column     Non-Null Count  Dtype \n",
            "---  ------     --------------  ----- \n",
            " 0   ProjectID  5000 non-null   int64 \n",
            " 1   ClientID   5000 non-null   int64 \n",
            " 2   StartDate  5000 non-null   object\n",
            " 3   EndDate    5000 non-null   object\n",
            " 4   Duration   5000 non-null   int64 \n",
            " 5   Category   5000 non-null   object\n",
            " 6   Size       5000 non-null   object\n",
            " 7   Cost       5000 non-null   int64 \n",
            "dtypes: int64(4), object(4)\n",
            "memory usage: 312.6+ KB\n"
          ]
        }
      ]
    },
    {
      "cell_type": "code",
      "source": [
        "df.EndDate.head()"
      ],
      "metadata": {
        "colab": {
          "base_uri": "https://localhost:8080/"
        },
        "id": "bLVN5B9eJSjp",
        "outputId": "70f73f4e-7ce4-475c-87ad-03384a0646a7"
      },
      "execution_count": null,
      "outputs": [
        {
          "output_type": "execute_result",
          "data": {
            "text/plain": [
              "0    01/03/2023\n",
              "1    15/09/2021\n",
              "2    22/03/2022\n",
              "3    05/04/2021\n",
              "4    08/09/2021\n",
              "Name: EndDate, dtype: object"
            ]
          },
          "metadata": {},
          "execution_count": 101
        }
      ]
    },
    {
      "cell_type": "markdown",
      "source": [
        " **We should convert date columns to datetime format**"
      ],
      "metadata": {
        "id": "BT_FMcQYGHHr"
      }
    },
    {
      "cell_type": "code",
      "source": [
        "df['StartDate'] = pd.to_datetime(df['StartDate'], format='%d/%m/%Y', errors='coerce')\n",
        "df['EndDate'] = pd.to_datetime(df['EndDate'], format='%d/%m/%Y', errors='coerce')"
      ],
      "metadata": {
        "id": "K12yq7-pGJvi"
      },
      "execution_count": null,
      "outputs": []
    },
    {
      "cell_type": "code",
      "source": [
        "df['Cost'] = df['Cost'].astype(int)"
      ],
      "metadata": {
        "id": "JNxeLWZHrBlJ"
      },
      "execution_count": null,
      "outputs": []
    },
    {
      "cell_type": "code",
      "source": [
        "df.info()"
      ],
      "metadata": {
        "colab": {
          "base_uri": "https://localhost:8080/"
        },
        "id": "0xOymi_OG2H6",
        "outputId": "52efbb20-1e0f-43aa-9317-f9ef16548c12"
      },
      "execution_count": null,
      "outputs": [
        {
          "output_type": "stream",
          "name": "stdout",
          "text": [
            "<class 'pandas.core.frame.DataFrame'>\n",
            "RangeIndex: 5000 entries, 0 to 4999\n",
            "Data columns (total 8 columns):\n",
            " #   Column     Non-Null Count  Dtype         \n",
            "---  ------     --------------  -----         \n",
            " 0   ProjectID  5000 non-null   int64         \n",
            " 1   ClientID   5000 non-null   int64         \n",
            " 2   StartDate  5000 non-null   datetime64[ns]\n",
            " 3   EndDate    5000 non-null   datetime64[ns]\n",
            " 4   Duration   5000 non-null   int64         \n",
            " 5   Category   5000 non-null   object        \n",
            " 6   Size       5000 non-null   object        \n",
            " 7   Cost       5000 non-null   int64         \n",
            "dtypes: datetime64[ns](2), int64(4), object(2)\n",
            "memory usage: 312.6+ KB\n"
          ]
        }
      ]
    },
    {
      "cell_type": "code",
      "source": [
        "print(df['Category'].unique())\n",
        "print(df['Size'].unique())"
      ],
      "metadata": {
        "colab": {
          "base_uri": "https://localhost:8080/"
        },
        "id": "Yhg66f2gIFOy",
        "outputId": "ef8dd29b-5246-4328-e83a-de47766becd3"
      },
      "execution_count": null,
      "outputs": [
        {
          "output_type": "stream",
          "name": "stdout",
          "text": [
            "['AI' 'E-commerce' 'UI/UX' 'Mobile' 'IoT' 'Web']\n",
            "['Medium' 'Small' 'Big']\n"
          ]
        }
      ]
    },
    {
      "cell_type": "markdown",
      "source": [
        "* The 'Category' column represents nominal data, where the values ['Mobile', 'AI', 'Web', 'IoT'] are distinct Category without any inherent order or hierarchy.\n",
        "\n",
        "* The 'Size' column represents ordinal data, where the values ['Small', 'Big', 'Medium'] have a natural order indicating different levels of size or complexity, with 'Small' < 'Medium' < 'Big'."
      ],
      "metadata": {
        "id": "rI0lNNeCN3jX"
      }
    },
    {
      "cell_type": "code",
      "source": [
        "newData[\"StartDate_year\"] = newData[\"StartDate\"].dt.year\n",
        "newData[\"StartDate_month\"] = newData[\"StartDate\"].dt.month\n",
        "\n",
        "newData[\"EndDate_year\"] = newData[\"EndDate\"].dt.year\n",
        "newData[\"EndDate_month\"] = newData[\"EndDate\"].dt.month\n"
      ],
      "metadata": {
        "id": "pXVXDa4SarIm"
      },
      "execution_count": null,
      "outputs": []
    },
    {
      "cell_type": "code",
      "source": [
        "newData = newData.drop('StartDate', axis=1)\n",
        "newData = newData.drop('EndDate', axis=1)"
      ],
      "metadata": {
        "id": "wP6B4ibKctyM"
      },
      "execution_count": null,
      "outputs": []
    },
    {
      "cell_type": "code",
      "source": [
        "newData.info()"
      ],
      "metadata": {
        "colab": {
          "base_uri": "https://localhost:8080/"
        },
        "id": "u4L1eZDucz5D",
        "outputId": "a3b37a6a-c41f-4e86-ebb0-27cd2eebff76"
      },
      "execution_count": null,
      "outputs": [
        {
          "output_type": "stream",
          "name": "stdout",
          "text": [
            "<class 'pandas.core.frame.DataFrame'>\n",
            "RangeIndex: 5000 entries, 0 to 4999\n",
            "Data columns (total 8 columns):\n",
            " #   Column           Non-Null Count  Dtype\n",
            "---  ------           --------------  -----\n",
            " 0   Duration         5000 non-null   int64\n",
            " 1   Category         5000 non-null   int64\n",
            " 2   Size             5000 non-null   int64\n",
            " 3   Cost             5000 non-null   int64\n",
            " 4   StartDate_year   5000 non-null   int64\n",
            " 5   StartDate_month  5000 non-null   int64\n",
            " 6   EndDate_year     5000 non-null   int64\n",
            " 7   EndDate_month    5000 non-null   int64\n",
            "dtypes: int64(8)\n",
            "memory usage: 312.6 KB\n"
          ]
        }
      ]
    },
    {
      "cell_type": "markdown",
      "source": [
        "# Modeling"
      ],
      "metadata": {
        "id": "bk7XlmRfhJnR"
      }
    },
    {
      "cell_type": "code",
      "source": [
        "from sklearn.linear_model import LinearRegression\n",
        "from sklearn.model_selection import train_test_split\n",
        "from sklearn.metrics import mean_squared_error, r2_score\n",
        "from sklearn.tree import DecisionTreeRegressor\n",
        "from sklearn.linear_model import Ridge\n",
        "from sklearn.linear_model import Lasso\n",
        "from sklearn.ensemble import RandomForestRegressor\n",
        "from sklearn.svm import SVR\n",
        "from sklearn.neighbors import KNeighborsRegressor\n",
        "from sklearn.ensemble import AdaBoostRegressor\n",
        "from sklearn.ensemble import RandomForestRegressor, GradientBoostingRegressor\n",
        "from sklearn.feature_selection import RFE"
      ],
      "metadata": {
        "id": "l2c0IZ1UhM5I"
      },
      "execution_count": null,
      "outputs": []
    },
    {
      "cell_type": "markdown",
      "source": [
        "**We need first to split the data**"
      ],
      "metadata": {
        "id": "ZBofnPwJn1zE"
      }
    },
    {
      "cell_type": "code",
      "source": [
        "X = newData.drop('Cost', axis=1)  # Features\n",
        "y = newData['Cost']  # Target variable\n",
        "X_train, X_test, y_train, y_test = train_test_split(X, y, test_size=0.3, random_state=41)"
      ],
      "metadata": {
        "id": "-aoNIYM9ipTv"
      },
      "execution_count": null,
      "outputs": []
    },
    {
      "cell_type": "markdown",
      "source": [
        "**This can help for FEATURE SELECTION**"
      ],
      "metadata": {
        "id": "Q6XJvK_k74Ad"
      }
    },
    {
      "cell_type": "code",
      "source": [
        "# Create a Linear Regression model\n",
        "model = LinearRegression()\n",
        "\n",
        "# Specify the number of desired features to keep\n",
        "num_features_to_keep = 3\n",
        "\n",
        "# Create an RFE object and fit it to the data\n",
        "rfe = RFE(estimator=model, n_features_to_select=num_features_to_keep)\n",
        "X_rfe = rfe.fit_transform(X, y)\n",
        "\n",
        "# Get the mask of selected features\n",
        "feature_mask = rfe.support_\n",
        "\n",
        "# Get the names of selected features\n",
        "selected_features = X.columns[feature_mask]\n",
        "\n",
        "# Print the selected feature names\n",
        "print(\"Selected features:\")\n",
        "print(selected_features)"
      ],
      "metadata": {
        "colab": {
          "base_uri": "https://localhost:8080/"
        },
        "id": "IbTczJmh7qx7",
        "outputId": "208d9d77-475f-43e8-974c-2955585caddf"
      },
      "execution_count": null,
      "outputs": [
        {
          "output_type": "stream",
          "name": "stdout",
          "text": [
            "Selected features:\n",
            "Index(['Duration', 'Size', 'EndDate_year'], dtype='object')\n"
          ]
        }
      ]
    },
    {
      "cell_type": "markdown",
      "source": [
        "**LinearRegression**"
      ],
      "metadata": {
        "id": "fKWvCJBon9SE"
      }
    },
    {
      "cell_type": "code",
      "source": [
        "model = LinearRegression()\n",
        "model.fit(X_train, y_train)\n",
        "\n",
        "# Make predictions on the test set\n",
        "y_pred = model.predict(X_test)\n",
        "\n",
        "# Evaluate the model\n",
        "mse = mean_squared_error(y_test, y_pred)\n",
        "r2 = r2_score(y_test, y_pred)\n",
        "\n",
        "print(\"Mean Squared Error (MSE):\", mse)\n",
        "print(\"R-Squared (R^2) Score:\", r2)"
      ],
      "metadata": {
        "colab": {
          "base_uri": "https://localhost:8080/"
        },
        "id": "HETPx7aUizzG",
        "outputId": "bf9ea05f-b142-48d9-9558-b6f80be68609"
      },
      "execution_count": null,
      "outputs": [
        {
          "output_type": "stream",
          "name": "stdout",
          "text": [
            "Mean Squared Error (MSE): 147173431.7077854\n",
            "R-Squared (R^2) Score: 0.8215234483399759\n"
          ]
        }
      ]
    },
    {
      "cell_type": "markdown",
      "source": [
        "**DecisionTreeRegressor**"
      ],
      "metadata": {
        "id": "jeKp9OAKn_TM"
      }
    },
    {
      "cell_type": "code",
      "source": [
        "model = DecisionTreeRegressor()\n",
        "model.fit(X_train, y_train)\n",
        "\n",
        "# Make predictions on the test set\n",
        "y_pred = model.predict(X_test)\n",
        "\n",
        "# Evaluate the model\n",
        "mse = mean_squared_error(y_test, y_pred)\n",
        "r2 = r2_score(y_test, y_pred)\n",
        "\n",
        "print(\"Mean Squared Error (MSE):\", mse)\n",
        "print(\"R-Squared (R^2) Score:\", r2)"
      ],
      "metadata": {
        "colab": {
          "base_uri": "https://localhost:8080/"
        },
        "id": "FbHJ-Mq7j1lH",
        "outputId": "80257880-254b-4965-dd6c-8adc70713ede"
      },
      "execution_count": null,
      "outputs": [
        {
          "output_type": "stream",
          "name": "stdout",
          "text": [
            "Mean Squared Error (MSE): 18918059.933333334\n",
            "R-Squared (R^2) Score: 0.9770581547102677\n"
          ]
        }
      ]
    },
    {
      "cell_type": "markdown",
      "source": [
        "**Ridge**"
      ],
      "metadata": {
        "id": "tSyT8JLHoGet"
      }
    },
    {
      "cell_type": "code",
      "source": [
        "Ridge = Ridge()\n",
        "Ridge = Ridge.fit(X_train, y_train)\n",
        "\n",
        "# Prediction:\n",
        "y_pred = Ridge.predict(X_test)\n",
        "\n",
        "# Scores:\n",
        "mse = mean_squared_error(y_test, y_pred)\n",
        "r2 = r2_score(y_test, y_pred)\n",
        "\n",
        "print(\"Mean Squared Error (MSE):\", mse)\n",
        "print(\"R-Squared (R^2) Score:\", r2)"
      ],
      "metadata": {
        "colab": {
          "base_uri": "https://localhost:8080/"
        },
        "id": "U4vnVawYkC9v",
        "outputId": "e20d9979-a356-4807-ec89-cc809271642a"
      },
      "execution_count": null,
      "outputs": [
        {
          "output_type": "stream",
          "name": "stdout",
          "text": [
            "Mean Squared Error (MSE): 147151732.3652717\n",
            "R-Squared (R^2) Score: 0.8215497630340086\n"
          ]
        }
      ]
    },
    {
      "cell_type": "markdown",
      "source": [
        "**Lasso**"
      ],
      "metadata": {
        "id": "xw2Biy0IoJTU"
      }
    },
    {
      "cell_type": "code",
      "source": [
        "Lasso = Lasso()\n",
        "Lasso = Lasso.fit(X_train, y_train)\n",
        "\n",
        "# Prediction:\n",
        "y_pred = Lasso.predict(X_test)\n",
        "\n",
        "# Scores:\n",
        "mse = mean_squared_error(y_test, y_pred)\n",
        "r2 = r2_score(y_test, y_pred)\n",
        "\n",
        "print(\"Mean Squared Error (MSE):\", mse)\n",
        "print(\"R-Squared (R^2) Score:\", r2)"
      ],
      "metadata": {
        "colab": {
          "base_uri": "https://localhost:8080/"
        },
        "id": "Q2nf_7cXkT-_",
        "outputId": "6500e7ca-b41f-4371-eb99-577264065d61"
      },
      "execution_count": null,
      "outputs": [
        {
          "output_type": "stream",
          "name": "stdout",
          "text": [
            "Mean Squared Error (MSE): 147140345.3040139\n",
            "R-Squared (R^2) Score: 0.8215635720714364\n"
          ]
        },
        {
          "output_type": "stream",
          "name": "stderr",
          "text": [
            "/usr/local/lib/python3.10/dist-packages/sklearn/linear_model/_coordinate_descent.py:631: ConvergenceWarning:\n",
            "\n",
            "Objective did not converge. You might want to increase the number of iterations, check the scale of the features or consider increasing regularisation. Duality gap: 2.001e+11, tolerance: 2.942e+08\n",
            "\n"
          ]
        }
      ]
    },
    {
      "cell_type": "markdown",
      "source": [
        "**KNeighborsRegressor**"
      ],
      "metadata": {
        "id": "0ySZYi-koMEE"
      }
    },
    {
      "cell_type": "code",
      "source": [
        "model = KNeighborsRegressor(n_neighbors=4)  # Specify the number of neighbors (k)\n",
        "model.fit(X_train, y_train)\n",
        "\n",
        "# Make predictions on the test set\n",
        "y_pred = model.predict(X_test)\n",
        "\n",
        "# Evaluate the model\n",
        "mse = mean_squared_error(y_test, y_pred)\n",
        "r2 = r2_score(y_test, y_pred)\n",
        "\n",
        "print(\"Mean Squared Error (MSE):\", mse)\n",
        "print(\"R-Squared (R^2) Score:\", r2)"
      ],
      "metadata": {
        "colab": {
          "base_uri": "https://localhost:8080/"
        },
        "id": "w3701QwQlBo_",
        "outputId": "f23ee5d5-26a5-447f-e9bc-99441cac046e"
      },
      "execution_count": null,
      "outputs": [
        {
          "output_type": "stream",
          "name": "stdout",
          "text": [
            "Mean Squared Error (MSE): 13304387.4875\n",
            "R-Squared (R^2) Score: 0.9838658297685657\n"
          ]
        }
      ]
    },
    {
      "cell_type": "markdown",
      "source": [
        "**AdaBoostRegressor**"
      ],
      "metadata": {
        "id": "PGpn_FgeoNY0"
      }
    },
    {
      "cell_type": "code",
      "source": [
        "model = AdaBoostRegressor()\n",
        "model.fit(X_train, y_train)\n",
        "\n",
        "# Make predictions on the test set\n",
        "y_pred = model.predict(X_test)\n",
        "\n",
        "# Evaluate the model\n",
        "mse = mean_squared_error(y_test, y_pred)\n",
        "r2 = r2_score(y_test, y_pred)\n",
        "\n",
        "print(\"Mean Squared Error (MSE):\", mse)\n",
        "print(\"R-Squared (R^2) Score:\", r2)"
      ],
      "metadata": {
        "colab": {
          "base_uri": "https://localhost:8080/"
        },
        "id": "GnZS5pael8am",
        "outputId": "54630a8b-1ecf-4a74-f677-4a24fa1e28d5"
      },
      "execution_count": null,
      "outputs": [
        {
          "output_type": "stream",
          "name": "stdout",
          "text": [
            "Mean Squared Error (MSE): 10624799.140571665\n",
            "R-Squared (R^2) Score: 0.9871153543769048\n"
          ]
        }
      ]
    },
    {
      "cell_type": "markdown",
      "source": [
        "**RandomForestRegressor**"
      ],
      "metadata": {
        "id": "idMcERKzoP3V"
      }
    },
    {
      "cell_type": "code",
      "source": [
        "RandomForestRegressor = RandomForestRegressor()\n",
        "RandomForestRegressor = RandomForestRegressor.fit(X_train, y_train)\n",
        "\n",
        "# Prediction:\n",
        "y_pred = RandomForestRegressor.predict(X_test)\n",
        "\n",
        "# Scores:\n",
        "mse = mean_squared_error(y_test, y_pred)\n",
        "r2 = r2_score(y_test, y_pred)\n",
        "\n",
        "rf_feature_importances = RandomForestRegressor.feature_importances_\n",
        "\n",
        "feature_importance_df = pd.DataFrame({'Feature': X.columns, 'Importance': rf_feature_importances})\n",
        "\n",
        "# Sort the DataFrame by importance scores in descending order\n",
        "feature_importance_df = feature_importance_df.sort_values(by='Importance', ascending=False)\n",
        "\n",
        "# Print the feature importance scores and corresponding feature names\n",
        "for index, row in feature_importance_df.iterrows():\n",
        "    print(row['Feature'], \": \", row['Importance'])\n",
        "\n",
        "\n",
        "print(\"Mean Squared Error (MSE):\", mse)\n",
        "print(\"R-Squared (R^2) Score:\", r2)"
      ],
      "metadata": {
        "colab": {
          "base_uri": "https://localhost:8080/"
        },
        "id": "7BnRecRAnx_8",
        "outputId": "3f4c9a58-93a6-49cd-f2d9-0cb5fa6f4614"
      },
      "execution_count": null,
      "outputs": [
        {
          "output_type": "stream",
          "name": "stdout",
          "text": [
            "Duration :  0.9619726058132293\n",
            "Size :  0.02987639043964466\n",
            "Category :  0.0021327476704206907\n",
            "StartDate_month :  0.0019087961683519645\n",
            "EndDate_month :  0.0018628891212910967\n",
            "EndDate_year :  0.0011245285303889921\n",
            "StartDate_year :  0.0011220422566733004\n",
            "Mean Squared Error (MSE): 10542984.108327165\n",
            "R-Squared (R^2) Score: 0.9872145710946202\n"
          ]
        }
      ]
    },
    {
      "cell_type": "code",
      "source": [
        "# Select a few examples to display\n",
        "sample_indices = [0, 10, 20, 30, 40, 50, 60, 70, 80, 90]\n",
        "\n",
        "# Display the predicted Cost and actual Cost for the selected examples\n",
        "for idx in sample_indices:\n",
        "    predicted_Cost = y_pred[idx]\n",
        "    actual_Cost = y_test.iloc[idx]\n",
        "    print(f\"Example {idx+1}: Predicted Cost={predicted_Cost:.2f}, Actual Cost={actual_Cost:.2f}\")\n"
      ],
      "metadata": {
        "colab": {
          "base_uri": "https://localhost:8080/"
        },
        "id": "RGRe__v4mpNM",
        "outputId": "3cb0e1fc-6fd9-4f92-98c3-d4629967571f"
      },
      "execution_count": null,
      "outputs": [
        {
          "output_type": "stream",
          "name": "stdout",
          "text": [
            "Example 1: Predicted Cost=3248.70, Actual Cost=3730.00\n",
            "Example 11: Predicted Cost=1347.93, Actual Cost=1510.00\n",
            "Example 21: Predicted Cost=58360.40, Actual Cost=51360.00\n",
            "Example 31: Predicted Cost=3405.83, Actual Cost=3420.00\n",
            "Example 41: Predicted Cost=1462.90, Actual Cost=700.00\n",
            "Example 51: Predicted Cost=9257.15, Actual Cost=9890.00\n",
            "Example 61: Predicted Cost=8360.64, Actual Cost=8410.00\n",
            "Example 71: Predicted Cost=9387.64, Actual Cost=9600.00\n",
            "Example 81: Predicted Cost=15063.00, Actual Cost=26570.00\n",
            "Example 91: Predicted Cost=3029.80, Actual Cost=2460.00\n"
          ]
        }
      ]
    },
    {
      "cell_type": "code",
      "source": [
        "plt.scatter(range(len(y_test)), y_test, label='Actual')\n",
        "plt.scatter(range(len(y_pred)), y_pred, label='Predicted')\n",
        "plt.xlabel('Data Points')\n",
        "plt.ylabel('Target Values')\n",
        "plt.title('Actual vs. Predicted')\n",
        "plt.legend()\n",
        "plt.show()"
      ],
      "metadata": {
        "colab": {
          "base_uri": "https://localhost:8080/",
          "height": 472
        },
        "id": "Syg_vqauAm4v",
        "outputId": "5ab030b9-6cca-4821-d8ad-56f43345c3d8"
      },
      "execution_count": null,
      "outputs": [
        {
          "output_type": "display_data",
          "data": {
            "text/plain": [
              "<Figure size 640x480 with 1 Axes>"
            ],
            "image/png": "[encoded data removed]"
          },
          "metadata": {}
        }
      ]
    },
    {
      "cell_type": "markdown",
      "source": [
        "**By far the RandomForestRegressor showed the best results as we can see the examples above and also by comparing the (MSE) and the (R-squared) with other models**"
      ],
      "metadata": {
        "id": "-NM2HPu7owz7"
      }
    }
  ]
}